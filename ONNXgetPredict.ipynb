{
 "cells": [
  {
   "cell_type": "code",
   "execution_count": 147,
   "id": "ef5bb8f1-2b0f-464a-8f95-a9b6af6b22ea",
   "metadata": {},
   "outputs": [],
   "source": [
    "import onnx\n",
    "import numpy as np\n",
    "import onnxruntime as ort\n",
    "from PIL import Image\n",
    "import matplotlib.pyplot as plt\n",
    "import cv2"
   ]
  },
  {
   "cell_type": "code",
   "execution_count": 232,
   "id": "0d125166-2891-4fad-bb25-75cfb618908b",
   "metadata": {},
   "outputs": [
    {
     "name": "stdout",
     "output_type": "stream",
     "text": [
      "input name: input_1, shape: ['unk__29', 28, 28, 1], type: tensor(float)\n"
     ]
    }
   ],
   "source": [
    "modelPath = \"C:/Users/chesa/OneDrive/Desktop/model.onnx\"\n",
    "model = onnx.load(modelPath)\n",
    "session = ort.InferenceSession(model.SerializeToString())\n",
    "inputs = session.get_inputs()\n",
    "print(\"input name: %s, shape: %s, type: %s\" % (inputs[0].name, inputs[0].shape, inputs[0].type))"
   ]
  },
  {
   "cell_type": "code",
   "execution_count": 330,
   "id": "2127b70f-00aa-42a4-9ce6-5b122c46672e",
   "metadata": {},
   "outputs": [],
   "source": [
    "#labels = [\"0\", \"1\", \"2\", \"3\", \"4\", \"5\", \"6\", \"7\", \"8\", \"9\"]\n",
    "#print(labels)\n",
    "labels = 0\n",
    "imgPath = f\"C:/Users/chesa/Downloads/data/{labels}.jpg\""
   ]
  },
  {
   "cell_type": "code",
   "execution_count": 300,
   "id": "ca5e0d74-fa8e-411e-b82e-730f9ad1fbb1",
   "metadata": {},
   "outputs": [],
   "source": [
    "def preprocess(img):\n",
    "    #read the image \n",
    "    image = cv2.imread(img)\n",
    "    #Convert an image from BGR to grayscale mode \n",
    "    gray_image = cv2.cvtColor(image, cv2.COLOR_BGR2GRAY)\n",
    "    #Convert a grayscale image to black and white using binary thresholding \n",
    "    (thresh, BnW_image) = cv2.threshold(gray_image, 28, 28, cv2.THRESH_BINARY)\n",
    "    BnW_image_np = np.asarray(BnW_image)\n",
    "    BnW_image_np = np.reshape(BnW_image_np, (1, 28, 28, 1)).astype(np.float32)\n",
    "    plt.imshow(BnW_image)\n",
    "    plt.show()\n",
    "    return BnW_image_np"
   ]
  },
  {
   "cell_type": "code",
   "execution_count": 301,
   "id": "b0764f25-4bdc-44cb-b3b1-8cc4f70ac976",
   "metadata": {},
   "outputs": [],
   "source": [
    "def predict(img):\n",
    "    img = preprocess(img)\n",
    "    pred_onx = session.run(None, {'input_1': img})\n",
    "    #print(\"predict\", pred_onx[0])\n",
    "    return pred_onx[0]"
   ]
  },
  {
   "cell_type": "code",
   "execution_count": 331,
   "id": "d8adad47-4df5-4c9d-a904-d7426a4355b9",
   "metadata": {},
   "outputs": [
    {
     "data": {
      "image/png": "[encoded data removed]",
      "text/plain": [
       "<Figure size 640x480 with 1 Axes>"
      ]
     },
     "metadata": {},
     "output_type": "display_data"
    },
    {
     "name": "stdout",
     "output_type": "stream",
     "text": [
      "[[1. 0. 0. 0. 0. 0. 0. 0. 0. 0.]]\n",
      "0\n"
     ]
    }
   ],
   "source": [
    "pre = predict(imgPath)\n",
    "print(pre)\n",
    "\n",
    "max = -1\n",
    "ind = -1\n",
    "for i in range(len(pre[0])):\n",
    "    if max < pre[0][i]:\n",
    "        max = pre[0][i]\n",
    "        ind = i\n",
    "print(ind)"
   ]
  },
  {
   "cell_type": "code",
   "execution_count": null,
   "id": "e42e655f-79a7-4f8f-9622-654e3d256300",
   "metadata": {},
   "outputs": [],
   "source": []
  },
  {
   "cell_type": "code",
   "execution_count": null,
   "id": "141bc5ab-110a-45f1-aedb-ae22afa444e6",
   "metadata": {},
   "outputs": [],
   "source": []
  }
 ],
 "metadata": {
  "kernelspec": {
   "display_name": "Python 3 (ipykernel)",
   "language": "python",
   "name": "python3"
  },
  "language_info": {
   "codemirror_mode": {
    "name": "ipython",
    "version": 3
   },
   "file_extension": ".py",
   "mimetype": "text/x-python",
   "name": "python",
   "nbconvert_exporter": "python",
   "pygments_lexer": "ipython3",
   "version": "3.10.10"
  }
 },
 "nbformat": 4,
 "nbformat_minor": 5
}
