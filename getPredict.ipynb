{
 "cells": [
  {
   "cell_type": "code",
   "execution_count": 2,
   "id": "0a7603d7-c186-4375-80f2-416369b319a3",
   "metadata": {},
   "outputs": [],
   "source": [
    "from tensorflow import keras\n",
    "from tensorflow.keras.datasets import mnist\n",
    "import numpy as np\n",
    "from PIL import Image\n",
    "import matplotlib.pyplot as plt\n",
    "import cv2\n",
    "import tensorflow as tf"
   ]
  },
  {
   "cell_type": "code",
   "execution_count": 3,
   "id": "dbd3bad2-a1d8-4b6c-934f-57df4013830f",
   "metadata": {},
   "outputs": [],
   "source": [
    "model = tf.keras.models.load_model(\"C:/Users/chesa/numbers_modelsv.keras\")"
   ]
  },
  {
   "cell_type": "code",
   "execution_count": 4,
   "id": "b5926999-283c-40ca-bfd3-e27b82cef664",
   "metadata": {},
   "outputs": [],
   "source": [
    "#Пример изображения из библеотеки MNIST"
   ]
  },
  {
   "cell_type": "code",
   "execution_count": 5,
   "id": "831e1630-5757-4265-9106-acb08c45c70d",
   "metadata": {},
   "outputs": [],
   "source": [
    "(train_images, train_labels), (test_images, test_labels) = mnist.load_data()"
   ]
  },
  {
   "cell_type": "code",
   "execution_count": 6,
   "id": "d5fa55e8-61f0-43c6-bcb5-8bb8c07ca6ae",
   "metadata": {},
   "outputs": [
    {
     "name": "stdout",
     "output_type": "stream",
     "text": [
      "(1, 28, 28) [1]\n"
     ]
    }
   ],
   "source": [
    "n = 3\n",
    "img = test_images[n-1:n]\n",
    "label = test_labels[n-1:n]\n",
    "print(img.shape, label)"
   ]
  },
  {
   "cell_type": "code",
   "execution_count": 7,
   "id": "8899fc99-4f28-404f-b19c-0962bab8a524",
   "metadata": {},
   "outputs": [
    {
     "name": "stdout",
     "output_type": "stream",
     "text": [
      "1/1 [==============================] - 0s 184ms/step\n",
      "[[0. 1. 0. 0. 0. 0. 0. 0. 0. 0.]]\n"
     ]
    }
   ],
   "source": [
    "predictions = model.predict(img)\n",
    "print(predictions)"
   ]
  },
  {
   "cell_type": "code",
   "execution_count": 8,
   "id": "f9df80f6-dbec-4561-a43e-186c55b05765",
   "metadata": {},
   "outputs": [],
   "source": [
    "#Пример изображения из paint"
   ]
  },
  {
   "cell_type": "code",
   "execution_count": 65,
   "id": "2a4c0d82-0e87-4020-a319-2b5ac7d1d941",
   "metadata": {},
   "outputs": [],
   "source": [
    "labels = 9\n",
    "imgPath = f\"C:/Users/chesa/Downloads/data/{labels}.jpg\""
   ]
  },
  {
   "cell_type": "code",
   "execution_count": 66,
   "id": "018f617e-2ee9-448c-9919-c9d96c78e1c7",
   "metadata": {},
   "outputs": [
    {
     "data": {
      "image/png": "[encoded data removed]",
      "text/plain": [
       "<Figure size 640x480 with 1 Axes>"
      ]
     },
     "metadata": {},
     "output_type": "display_data"
    },
    {
     "data": {
      "image/png": "[encoded data removed]",
      "text/plain": [
       "<Figure size 640x480 with 1 Axes>"
      ]
     },
     "metadata": {},
     "output_type": "display_data"
    }
   ],
   "source": [
    "#read the image \n",
    "image = cv2.imread(imgPath)\n",
    "plt.imshow(image)\n",
    "plt.show()\n",
    "#Convert an image from BGR to grayscale mode \n",
    "gray_image = cv2.cvtColor(image, cv2.COLOR_BGR2GRAY)\n",
    "  \n",
    "#Convert a grayscale image to black and white using binary thresholding \n",
    "(thresh, BnW_image) = cv2.threshold(gray_image, 28, 28, cv2.THRESH_BINARY)\n",
    "#cv2.imwrite(f\"C:/Users/chesa/OneDrive/Desktop/projects/NeuralNetworkProject/Content/images/{labels}.png\", BnW_image)\n",
    "plt.imshow(BnW_image)\n",
    "plt.show()"
   ]
  },
  {
   "cell_type": "code",
   "execution_count": 42,
   "id": "e05b918e-6541-4667-9c8e-7b211bae747b",
   "metadata": {},
   "outputs": [
    {
     "name": "stdout",
     "output_type": "stream",
     "text": [
      "img_np.shape:  (1, 28, 28)\n"
     ]
    }
   ],
   "source": [
    "BnW_image_np = np.asarray(BnW_image)\n",
    "#img_np = np.transpose(BnW_image_np, axes=[2, 0, 1])\n",
    "BnW_image_np = np.reshape(BnW_image_np, (1, 28, 28))\n",
    "print(\"img_np.shape: \", BnW_image_np.shape)"
   ]
  },
  {
   "cell_type": "code",
   "execution_count": 43,
   "id": "92d4d448-9daa-4c28-82bb-27a14626a40c",
   "metadata": {},
   "outputs": [
    {
     "name": "stdout",
     "output_type": "stream",
     "text": [
      "1/1 [==============================] - 0s 38ms/step\n",
      "[[0. 0. 1. 0. 0. 0. 0. 0. 0. 0.]]\n"
     ]
    }
   ],
   "source": [
    "predictions = model.predict(BnW_image_np)\n",
    "print(predictions)"
   ]
  },
  {
   "cell_type": "code",
   "execution_count": 44,
   "id": "57216b0a-c708-4010-b814-3fa6db78346d",
   "metadata": {},
   "outputs": [
    {
     "name": "stdout",
     "output_type": "stream",
     "text": [
      "2\n"
     ]
    }
   ],
   "source": [
    "max = -1\n",
    "ind = -1\n",
    "for i in range(len(predictions[0])):\n",
    "    if max < predictions[0][i]:\n",
    "        max = predictions[0][i]\n",
    "        ind = i\n",
    "print(ind)"
   ]
  }
 ],
 "metadata": {
  "kernelspec": {
   "display_name": "Python 3 (ipykernel)",
   "language": "python",
   "name": "python3"
  },
  "language_info": {
   "codemirror_mode": {
    "name": "ipython",
    "version": 3
   },
   "file_extension": ".py",
   "mimetype": "text/x-python",
   "name": "python",
   "nbconvert_exporter": "python",
   "pygments_lexer": "ipython3",
   "version": "3.10.10"
  }
 },
 "nbformat": 4,
 "nbformat_minor": 5
}
